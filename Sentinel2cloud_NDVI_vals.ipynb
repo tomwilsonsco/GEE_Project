{
 "cells": [
  {
   "cell_type": "markdown",
   "metadata": {},
   "source": [
    "## Sentinel 2 Analysis Using Google Earth Engine\n",
    "\n",
    "cloud score and shadow TDOM methods adpated for Python by me from Javascript by Ian Housman:\n",
    "https://groups.google.com/forum/#!msg/google-earth-engine-developers/i63DS-Dg8Sg/FGuT5OtSAQAJ;context-place=msg/google-earth-engine-developers/jYFuopAlIi0/tf2AKG4_BAAJ\n",
    " "
   ]
  },
  {
   "cell_type": "code",
   "execution_count": null,
   "metadata": {},
   "outputs": [],
   "source": [
    "import ee\n",
    "ee.Initialize()\n",
    "import matplotlib\n",
    "from matplotlib.pylab import plt\n",
    "import numpy as np\n",
    "import pandas as pd\n",
    "import seaborn as sns\n",
    "#print(s2c.getInfo())\n",
    "%matplotlib inline\n",
    "\n"
   ]
  },
  {
   "cell_type": "code",
   "execution_count": null,
   "metadata": {},
   "outputs": [],
   "source": [
    "#S2 cloud score and shadow removal parameters\n",
    "cloudThresh =10 #lower value more cloud filtered\n",
    "irSumThresh =0.35 #Sum of IR bands to include as shadows within TDOM and the shadow shift method (lower number masks out less)\n",
    "dilatePixels = 2 #Pixels to dilate around clouds\n",
    "contractPixels = 1 #Pixels to reduce cloud mask and dark shadows by to reduce inclusion of single-pixel comission errors"
   ]
  },
  {
   "cell_type": "code",
   "execution_count": null,
   "metadata": {},
   "outputs": [],
   "source": [
    "#Bands are divided by 10000 and renamed for cloud score\n",
    "def s2_bands(img):\n",
    "    t = img.select([ 'B1','B2','B3','B4','B5','B6','B7','B8','B8A', 'B9','B10', 'B11','B12']).divide(10000)\n",
    "    t = t.addBands(img.select(['QA60']))\n",
    "    out = t.copyProperties(img).copyProperties(img,['system:time_start'])\n",
    "    return out"
   ]
  },
  {
   "cell_type": "code",
   "execution_count": null,
   "metadata": {},
   "outputs": [],
   "source": [
    "#Masking function for S2 cloud using QA band\n",
    "def maskS2clouds(image):\n",
    "    qa = image.select('QA60')\n",
    "     #Bits 10 and 11 are clouds and cirrus, respectively.\n",
    "    cloudBitMask = 2**10\n",
    "    cirrusBitMask = 2**11\n",
    "    #Both flags should be set to zero, indicating clear conditions.\n",
    "    mask = qa.bitwiseAnd(cloudBitMask).eq(0)\n",
    "    #.and(qa.bitwiseAnd(cirrusBitMask).eq(0));\n",
    "    return image.updateMask(mask)"
   ]
  },
  {
   "cell_type": "code",
   "execution_count": null,
   "metadata": {},
   "outputs": [],
   "source": [
    "def rescale(img, exp, thresholds):\n",
    "    return img.expression(exp,{'img':img}).subtract(thresholds[0]).divide(thresholds[1] - thresholds[0])"
   ]
  },
  {
   "cell_type": "code",
   "execution_count": null,
   "metadata": {},
   "outputs": [],
   "source": [
    "#Masking function for S2 cloud using cloud score \n",
    "def sentinelCloudScore(img):\n",
    "  # Compute several indicators of cloudyness and take the minimum of them.\n",
    "    score = ee.Image(1)  \n",
    "  # Clouds are reasonably bright in the blue and cirrus bands.\n",
    "    score = score.min(rescale(img, 'img.blue', [0.1, 0.5]))\n",
    "    score = score.min(rescale(img, 'img.cb', [0.1, 0.3]))\n",
    "    score = score.min(rescale(img, 'img.cb + img.cirrus', [0.15, 0.2])) \n",
    "  # Clouds are reasonably bright in all visible bands.\n",
    "    score = score.min(rescale(img, 'img.red + img.green + img.blue', [0.2, 0.8]))\n",
    "  # Clouds are moist\n",
    "    ndmi = img.normalizedDifference(['nir','swir1'])\n",
    "    score=score.min(rescale(ndmi, 'img', [-0.1, 0.1]))\n",
    "  # However, clouds are not snow.\n",
    "    ndsi = img.normalizedDifference(['green', 'swir1'])\n",
    "    score=score.min(rescale(ndsi, 'img', [0.8, 0.6]))\n",
    "    score = score.multiply(100).byte()\n",
    "    return img.addBands(score.rename('cloudScore'))"
   ]
  },
  {
   "cell_type": "code",
   "execution_count": null,
   "metadata": {},
   "outputs": [],
   "source": [
    "#Function to remove clouds from S2 image using cloud score\n",
    "def scoreRemoveClouds(img):\n",
    "    img = sentinelCloudScore(img)\n",
    "    img = img.updateMask(img.select(['cloudScore']).gt(cloudThresh).focal_min(contractPixels).focal_max(dilatePixels).Not())\n",
    "    return img"
   ]
  },
  {
   "cell_type": "code",
   "execution_count": null,
   "metadata": {},
   "outputs": [],
   "source": [
    "# TDOM2 function for removing cloud shadow\n",
    "def simpleTDOM2(coll):\n",
    "    shadowSumBands = ['nir','swir1']\n",
    "    irSumThresh = 0.4\n",
    "    zShadowThresh = -1.2\n",
    "    #Get some pixel-wise stats for the time series\n",
    "    irStdDev = coll.select(shadowSumBands).reduce(ee.Reducer.stdDev())\n",
    "    irMean = coll.select(shadowSumBands).mean()\n",
    "    bandNames = ee.Image(coll.first()).bandNames()\n",
    "    #Mask out dark outliers using mask dark function\n",
    "    def mask_dark(img):\n",
    "        z = img.select(shadowSumBands).subtract(irMean).divide(irStdDev)\n",
    "        irSum = img.select(shadowSumBands).reduce(ee.Reducer.sum())\n",
    "        m = z.lt(zShadowThresh).reduce(ee.Reducer.sum()).eq(2).And(irSum.lt(irSumThresh)).Not()\n",
    "        return img.updateMask(img.mask().And(m))\n",
    "    coll = coll.map(mask_dark)\n",
    "    return coll.select(bandNames)"
   ]
  },
  {
   "cell_type": "code",
   "execution_count": null,
   "metadata": {},
   "outputs": [],
   "source": [
    "#Test s2 cloud shadow masks on one image\n",
    "n = s2c.size()\n",
    "colList = s2c.toList(n)\n",
    "img1 = maskS2clouds(ee.Image(colList.get(0)))\n",
    "img1 = sentinelCloudScore(img1)\n",
    "img1 = img1.updateMask(img1.select(['cloudScore']).gt(cloudThresh).focal_min(contractPixels).focal_max(dilatePixels).Not())\n",
    "\n",
    "val = img1.reduceRegions(pnts,ee.Reducer.first(),10)"
   ]
  },
  {
   "cell_type": "code",
   "execution_count": null,
   "metadata": {},
   "outputs": [],
   "source": [
    "#Get S2 collection\n",
    "s2c = ee.ImageCollection('COPERNICUS/S2')\\\n",
    ".filterDate('2018-09-01', '2018-09-30')\\\n",
    ".filterBounds(pnts)\\\n",
    ".sort('CLOUDY_PIXEL_PERCENTAGE')\\\n",
    ".map(s2_bands)\\\n",
    ".select(['QA60', 'B1','B2','B3','B4','B5','B6','B7','B8','B8A', 'B9','B10', 'B11','B12'],['QA60','cb', 'blue', 'green', 'red', 're1','re2','re3','nir', 'nir2', 'waterVapor', 'cirrus','swir1', 'swir2'])\\\n",
    ".map(scoreRemoveClouds)\n",
    "\n",
    "#Apply TDOM\n",
    "#s2c = simpleTDOM2(s2c)\n",
    "s2img = s2c.first()"
   ]
  },
  {
   "cell_type": "code",
   "execution_count": null,
   "metadata": {},
   "outputs": [],
   "source": [
    "val = s2img.reduceRegions(pnts,ee.Reducer.first(),10)\n",
    "\n",
    "#task=ee.batch.Export.table.toDrive(collection=val,folder = 'Pixel_Values',fileFormat='CSV',fileNamePrefix='fnfssd')\n",
    "t=ee.batch.Export.image.toAsset(image=s2img, description='imageToAssetEx',assetId='users/tomw_ee/testme', scale=10)\n",
    "t.start()"
   ]
  }
 ],
 "metadata": {
  "kernelspec": {
   "display_name": "Python 3",
   "language": "python",
   "name": "python3"
  },
  "language_info": {
   "codemirror_mode": {
    "name": "ipython",
    "version": 3
   },
   "file_extension": ".py",
   "mimetype": "text/x-python",
   "name": "python",
   "nbconvert_exporter": "python",
   "pygments_lexer": "ipython3",
   "version": "3.6.4"
  }
 },
 "nbformat": 4,
 "nbformat_minor": 2
}
