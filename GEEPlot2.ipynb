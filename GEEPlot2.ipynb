{
 "cells": [
  {
   "cell_type": "code",
   "execution_count": 2,
   "metadata": {},
   "outputs": [],
   "source": [
    "import ee\n",
    "ee.Initialize()\n",
    "import matplotlib\n",
    "from matplotlib.pylab import plt\n",
    "import numpy as np\n",
    "import pandas as pd\n",
    "import seaborn as sns\n",
    "#print(s2c.getInfo())\n",
    "%matplotlib inline"
   ]
  },
  {
   "cell_type": "code",
   "execution_count": 3,
   "metadata": {},
   "outputs": [],
   "source": [
    "#Time frame for temporal composites\n",
    "start = '2018-05-01'\n",
    "end = '2018-09-30'"
   ]
  },
  {
   "cell_type": "code",
   "execution_count": 43,
   "metadata": {},
   "outputs": [
    {
     "name": "stdout",
     "output_type": "stream",
     "text": [
      "ee.Number({\n",
      "  \"type\": \"Invocation\", \n",
      "  \"arguments\": {\n",
      "    \"collection\": {\n",
      "      \"type\": \"Invocation\", \n",
      "      \"arguments\": {\n",
      "        \"collection2\": {\n",
      "          \"type\": \"Invocation\", \n",
      "          \"arguments\": {\n",
      "            \"baseAlgorithm\": {\n",
      "              \"body\": {\n",
      "                \"type\": \"Invocation\", \n",
      "                \"arguments\": {\n",
      "                  \"object\": {\n",
      "                    \"type\": \"ArgumentRef\", \n",
      "                    \"value\": \"_MAPPING_VAR_0_0\"\n",
      "                  }, \n",
      "                  \"key\": \"polytype\", \n",
      "                  \"value\": \"young\"\n",
      "                }, \n",
      "                \"functionName\": \"Element.set\"\n",
      "              }, \n",
      "              \"argumentNames\": [\n",
      "                \"_MAPPING_VAR_0_0\"\n",
      "              ], \n",
      "              \"type\": \"Function\"\n",
      "            }, \n",
      "            \"collection\": {\n",
      "              \"type\": \"Invocation\", \n",
      "              \"arguments\": {\n",
      "                \"tableId\": \"users/tomw_ee/Inputs/kielder_mature_trees\"\n",
      "              }, \n",
      "              \"functionName\": \"Collection.loadTable\"\n",
      "            }\n",
      "          }, \n",
      "          \"functionName\": \"Collection.map\"\n",
      "        }, \n",
      "        \"collection1\": {\n",
      "          \"type\": \"Invocation\", \n",
      "          \"arguments\": {\n",
      "            \"collection2\": {\n",
      "              \"type\": \"Invocation\", \n",
      "              \"arguments\": {\n",
      "                \"baseAlgorithm\": {\n",
      "                  \"body\": {\n",
      "                    \"type\": \"Invocation\", \n",
      "                    \"arguments\": {\n",
      "                      \"object\": {\n",
      "                        \"type\": \"ArgumentRef\", \n",
      "                        \"value\": \"_MAPPING_VAR_0_0\"\n",
      "                      }, \n",
      "                      \"key\": \"polytype\", \n",
      "                      \"value\": \"young\"\n",
      "                    }, \n",
      "                    \"functionName\": \"Element.set\"\n",
      "                  }, \n",
      "                  \"argumentNames\": [\n",
      "                    \"_MAPPING_VAR_0_0\"\n",
      "                  ], \n",
      "                  \"type\": \"Function\"\n",
      "                }, \n",
      "                \"collection\": {\n",
      "                  \"type\": \"Invocation\", \n",
      "                  \"arguments\": {\n",
      "                    \"tableId\": \"users/tomw_ee/Inputs/kielder_young_trees\"\n",
      "                  }, \n",
      "                  \"functionName\": \"Collection.loadTable\"\n",
      "                }\n",
      "              }, \n",
      "              \"functionName\": \"Collection.map\"\n",
      "            }, \n",
      "            \"collection1\": {\n",
      "              \"type\": \"Invocation\", \n",
      "              \"arguments\": {\n",
      "                \"baseAlgorithm\": {\n",
      "                  \"body\": {\n",
      "                    \"type\": \"Invocation\", \n",
      "                    \"arguments\": {\n",
      "                      \"object\": {\n",
      "                        \"type\": \"ArgumentRef\", \n",
      "                        \"value\": \"_MAPPING_VAR_0_0\"\n",
      "                      }, \n",
      "                      \"key\": \"polytype\", \n",
      "                      \"value\": \"young\"\n",
      "                    }, \n",
      "                    \"functionName\": \"Element.set\"\n",
      "                  }, \n",
      "                  \"argumentNames\": [\n",
      "                    \"_MAPPING_VAR_0_0\"\n",
      "                  ], \n",
      "                  \"type\": \"Function\"\n",
      "                }, \n",
      "                \"collection\": {\n",
      "                  \"type\": \"Invocation\", \n",
      "                  \"arguments\": {\n",
      "                    \"tableId\": \"users/tomw_ee/Inputs/kielder_felled_only\"\n",
      "                  }, \n",
      "                  \"functionName\": \"Collection.loadTable\"\n",
      "                }\n",
      "              }, \n",
      "              \"functionName\": \"Collection.map\"\n",
      "            }\n",
      "          }, \n",
      "          \"functionName\": \"Collection.merge\"\n",
      "        }\n",
      "      }, \n",
      "      \"functionName\": \"Collection.merge\"\n",
      "    }\n",
      "  }, \n",
      "  \"functionName\": \"Collection.size\"\n",
      "})\n"
     ]
    }
   ],
   "source": [
    "#Define features\n",
    "random_samples = 10\n",
    "extent = ee.FeatureCollection('users/tomw_ee/Inputs/kielder_boundary')\n",
    "felled = ee.FeatureCollection('users/tomw_ee/Inputs/kielder_felled_only').map(lambda f : f.set('polytype', 'young'))\n",
    "young = ee.FeatureCollection('users/tomw_ee/Inputs/kielder_young_trees').map(lambda f : f.set('polytype', 'young'))\n",
    "mature = ee.FeatureCollection('users/tomw_ee/Inputs/kielder_mature_trees').map(lambda f : f.set('polytype', 'young'))\n",
    "#randomFc = ee.FeatureCollection.randomPoints(young, random_samples).map(lambda f : f.set('polytype', 'young'))\n",
    "#randomFelled = ee.FeatureCollection.randomPoints(felled, random_samples).map(lambda f : f.set('polytype', 'felled'))\n",
    "#randomMature = ee.FeatureCollection.randomPoints(mature, random_samples).map(lambda f : f.set('polytype', 'mature'))\n",
    "#randomFc = randomFc.merge(randomMature).merge(randomFelled)\n",
    "randomFc = felled.merge(young).merge(mature)"
   ]
  },
  {
   "cell_type": "code",
   "execution_count": 5,
   "metadata": {},
   "outputs": [],
   "source": [
    "#Masking function for S2\n",
    "def maskS2clouds(image):\n",
    "    qa = image.select('QA60')\n",
    "     #Bits 10 and 11 are clouds and cirrus, respectively.\n",
    "    cloudBitMask = 2**10\n",
    "    cirrusBitMask = 2**11\n",
    "    #Both flags should be set to zero, indicating clear conditions.\n",
    "    mask = qa.bitwiseAnd(cloudBitMask).eq(0)\n",
    "    #.and(qa.bitwiseAnd(cirrusBitMask).eq(0));\n",
    "    return image.updateMask(mask).divide(10000)"
   ]
  },
  {
   "cell_type": "code",
   "execution_count": 6,
   "metadata": {},
   "outputs": [],
   "source": [
    "#Define image collections\n",
    "s2c = ee.ImageCollection('COPERNICUS/S2').filterDate(start, end).filterBounds(extent).map(maskS2clouds)\n",
    "s1c = ee.ImageCollection('COPERNICUS/S1_GRD').filterBounds(extent).filterDate(start, end).\\\n",
    "filter(ee.Filter.listContains('transmitterReceiverPolarisation', 'VV')).\\\n",
    "filter(ee.Filter.listContains('transmitterReceiverPolarisation', 'VH'))\n",
    "#filter(ee.Filter.eq('orbitProperties_pass', 'ASCENDING'))"
   ]
  },
  {
   "cell_type": "markdown",
   "metadata": {},
   "source": [
    "### 1. Distribution of pixel values for different land uses\n",
    "* Reduce image collection to a median composite over the time frame\n",
    "* Sample the pixel values at all random points for mature, young, felled land uses"
   ]
  },
  {
   "cell_type": "code",
   "execution_count": 7,
   "metadata": {},
   "outputs": [],
   "source": [
    "#Median composite creation\n",
    "s1_med = s1c.median()\n",
    "s2_med = s2c.median()\n",
    "s2_med= s2_med.addBands(s2_med.normalizedDifference(['B8', 'B4']).rename('ndvi'))"
   ]
  },
  {
   "cell_type": "code",
   "execution_count": 8,
   "metadata": {},
   "outputs": [],
   "source": [
    "s1_red = s1_med.reduceRegions(randomFc, ee.Reducer.first(),10)\n",
    "s2_red = s1_med.reduceRegions(randomFc, ee.Reducer.first(),10)"
   ]
  },
  {
   "cell_type": "code",
   "execution_count": 9,
   "metadata": {},
   "outputs": [],
   "source": [
    "def export_results(coll, output_file_name):\n",
    "    task=ee.batch.Export.table.toDrive(\n",
    "            collection=coll,\n",
    "            folder = 'Pixel_Values',\n",
    "            fileFormat='CSV',\n",
    "            fileNamePrefix=output_file_name)\n",
    "    task.start()"
   ]
  },
  {
   "cell_type": "code",
   "execution_count": 10,
   "metadata": {},
   "outputs": [],
   "source": [
    "export_results(s1_red, 's1_results_median_luse')\n",
    "export_results(s2_red, 's2_results_median_luse')"
   ]
  },
  {
   "cell_type": "code",
   "execution_count": null,
   "metadata": {},
   "outputs": [],
   "source": [
    "properties = [i['properties'] for i in test]"
   ]
  },
  {
   "cell_type": "markdown",
   "metadata": {},
   "source": [
    "## 2. Temporal Data September 2016 to September 2018"
   ]
  },
  {
   "cell_type": "code",
   "execution_count": 32,
   "metadata": {},
   "outputs": [],
   "source": [
    "start = '2018-09-15'\n",
    "end = '2018-09-30'"
   ]
  },
  {
   "cell_type": "code",
   "execution_count": 33,
   "metadata": {},
   "outputs": [],
   "source": [
    "s2c = ee.ImageCollection('COPERNICUS/S2').filterDate(start, end).filterBounds(extent).map(maskS2clouds)\n",
    "s1c = ee.ImageCollection('COPERNICUS/S1_GRD').filterBounds(extent).filterDate(start, end).\\\n",
    "filter(ee.Filter.listContains('transmitterReceiverPolarisation', 'VV')).\\\n",
    "filter(ee.Filter.listContains('transmitterReceiverPolarisation', 'VH'))\n",
    "#filter(ee.Filter.eq('orbitProperties_pass', 'ASCENDING'))"
   ]
  },
  {
   "cell_type": "code",
   "execution_count": 49,
   "metadata": {},
   "outputs": [],
   "source": [
    "def temporal_values(img):\n",
    "    return img.reduceRegions(randomFc, ee.Reducer.first(),10).map(lambda f : f.set('img_date', img.date().format('dd-MM-yyyy')))\n",
    "    "
   ]
  },
  {
   "cell_type": "code",
   "execution_count": 50,
   "metadata": {},
   "outputs": [],
   "source": [
    "temporal_s1 = s1c.map(temporal_values).flatten()\n",
    "temporal_s2 = s2c.map(temporal_values).flatten()"
   ]
  },
  {
   "cell_type": "code",
   "execution_count": 51,
   "metadata": {},
   "outputs": [],
   "source": [
    "export_results(temporal_s1,'temporal_test2')\n",
    "expport_results(temporal_s2, 'temporal_test2')"
   ]
  },
  {
   "cell_type": "code",
   "execution_count": 53,
   "metadata": {},
   "outputs": [
    {
     "ename": "EEException",
     "evalue": "Collection query aborted after accumulating over 5000 elements.",
     "output_type": "error",
     "traceback": [
      "\u001b[0;31m---------------------------------------------------------------------------\u001b[0m",
      "\u001b[0;31mEEException\u001b[0m                               Traceback (most recent call last)",
      "\u001b[0;32m<ipython-input-53-3aebc154e32d>\u001b[0m in \u001b[0;36m<module>\u001b[0;34m()\u001b[0m\n\u001b[0;32m----> 1\u001b[0;31m \u001b[0mtemporal_s1\u001b[0m\u001b[0;34m.\u001b[0m\u001b[0mgetInfo\u001b[0m\u001b[0;34m(\u001b[0m\u001b[0;34m)\u001b[0m\u001b[0;34m\u001b[0m\u001b[0m\n\u001b[0m",
      "\u001b[0;32m/home/tom/tomee/env/local/lib/python2.7/site-packages/ee/collection.pyc\u001b[0m in \u001b[0;36mgetInfo\u001b[0;34m(self)\u001b[0m\n\u001b[1;32m    125\u001b[0m            \u001b[0mproperties\u001b[0m\u001b[0;34m.\u001b[0m\u001b[0;34m\u001b[0m\u001b[0m\n\u001b[1;32m    126\u001b[0m     \"\"\"\n\u001b[0;32m--> 127\u001b[0;31m     \u001b[0;32mreturn\u001b[0m \u001b[0msuper\u001b[0m\u001b[0;34m(\u001b[0m\u001b[0mCollection\u001b[0m\u001b[0;34m,\u001b[0m \u001b[0mself\u001b[0m\u001b[0;34m)\u001b[0m\u001b[0;34m.\u001b[0m\u001b[0mgetInfo\u001b[0m\u001b[0;34m(\u001b[0m\u001b[0;34m)\u001b[0m\u001b[0;34m\u001b[0m\u001b[0m\n\u001b[0m\u001b[1;32m    128\u001b[0m \u001b[0;34m\u001b[0m\u001b[0m\n\u001b[1;32m    129\u001b[0m   \u001b[0;32mdef\u001b[0m \u001b[0mlimit\u001b[0m\u001b[0;34m(\u001b[0m\u001b[0mself\u001b[0m\u001b[0;34m,\u001b[0m \u001b[0mmaximum\u001b[0m\u001b[0;34m,\u001b[0m \u001b[0mopt_property\u001b[0m\u001b[0;34m=\u001b[0m\u001b[0mNone\u001b[0m\u001b[0;34m,\u001b[0m \u001b[0mopt_ascending\u001b[0m\u001b[0;34m=\u001b[0m\u001b[0mNone\u001b[0m\u001b[0;34m)\u001b[0m\u001b[0;34m:\u001b[0m\u001b[0;34m\u001b[0m\u001b[0m\n",
      "\u001b[0;32m/home/tom/tomee/env/local/lib/python2.7/site-packages/ee/computedobject.pyc\u001b[0m in \u001b[0;36mgetInfo\u001b[0;34m(self)\u001b[0m\n\u001b[1;32m     93\u001b[0m       \u001b[0mThe\u001b[0m \u001b[0mobject\u001b[0m \u001b[0mcan\u001b[0m \u001b[0mevaluate\u001b[0m \u001b[0mto\u001b[0m \u001b[0manything\u001b[0m\u001b[0;34m.\u001b[0m\u001b[0;34m\u001b[0m\u001b[0m\n\u001b[1;32m     94\u001b[0m     \"\"\"\n\u001b[0;32m---> 95\u001b[0;31m     \u001b[0;32mreturn\u001b[0m \u001b[0mdata\u001b[0m\u001b[0;34m.\u001b[0m\u001b[0mgetValue\u001b[0m\u001b[0;34m(\u001b[0m\u001b[0;34m{\u001b[0m\u001b[0;34m'json'\u001b[0m\u001b[0;34m:\u001b[0m \u001b[0mself\u001b[0m\u001b[0;34m.\u001b[0m\u001b[0mserialize\u001b[0m\u001b[0;34m(\u001b[0m\u001b[0;34m)\u001b[0m\u001b[0;34m}\u001b[0m\u001b[0;34m)\u001b[0m\u001b[0;34m\u001b[0m\u001b[0m\n\u001b[0m\u001b[1;32m     96\u001b[0m \u001b[0;34m\u001b[0m\u001b[0m\n\u001b[1;32m     97\u001b[0m   \u001b[0;32mdef\u001b[0m \u001b[0mencode\u001b[0m\u001b[0;34m(\u001b[0m\u001b[0mself\u001b[0m\u001b[0;34m,\u001b[0m \u001b[0mencoder\u001b[0m\u001b[0;34m)\u001b[0m\u001b[0;34m:\u001b[0m\u001b[0;34m\u001b[0m\u001b[0m\n",
      "\u001b[0;32m/home/tom/tomee/env/local/lib/python2.7/site-packages/ee/data.pyc\u001b[0m in \u001b[0;36mgetValue\u001b[0;34m(params)\u001b[0m\n\u001b[1;32m    267\u001b[0m   \"\"\"\n\u001b[1;32m    268\u001b[0m   \u001b[0mparams\u001b[0m\u001b[0;34m[\u001b[0m\u001b[0;34m'json_format'\u001b[0m\u001b[0;34m]\u001b[0m \u001b[0;34m=\u001b[0m \u001b[0;34m'v2'\u001b[0m\u001b[0;34m\u001b[0m\u001b[0m\n\u001b[0;32m--> 269\u001b[0;31m   \u001b[0;32mreturn\u001b[0m \u001b[0msend_\u001b[0m\u001b[0;34m(\u001b[0m\u001b[0;34m'/value'\u001b[0m\u001b[0;34m,\u001b[0m \u001b[0mparams\u001b[0m\u001b[0;34m)\u001b[0m\u001b[0;34m\u001b[0m\u001b[0m\n\u001b[0m\u001b[1;32m    270\u001b[0m \u001b[0;34m\u001b[0m\u001b[0m\n\u001b[1;32m    271\u001b[0m \u001b[0;34m\u001b[0m\u001b[0m\n",
      "\u001b[0;32m/home/tom/tomee/env/local/lib/python2.7/site-packages/ee/data.pyc\u001b[0m in \u001b[0;36msend_\u001b[0;34m(path, params, opt_method, opt_raw)\u001b[0m\n\u001b[1;32m    826\u001b[0m       \u001b[0;32mraise\u001b[0m \u001b[0mee_exception\u001b[0m\u001b[0;34m.\u001b[0m\u001b[0mEEException\u001b[0m\u001b[0;34m(\u001b[0m\u001b[0;34m'Invalid JSON: %s'\u001b[0m \u001b[0;34m%\u001b[0m \u001b[0mcontent\u001b[0m\u001b[0;34m)\u001b[0m\u001b[0;34m\u001b[0m\u001b[0m\n\u001b[1;32m    827\u001b[0m     \u001b[0;32mif\u001b[0m \u001b[0;34m'error'\u001b[0m \u001b[0;32min\u001b[0m \u001b[0mjson_content\u001b[0m\u001b[0;34m:\u001b[0m\u001b[0;34m\u001b[0m\u001b[0m\n\u001b[0;32m--> 828\u001b[0;31m       \u001b[0;32mraise\u001b[0m \u001b[0mee_exception\u001b[0m\u001b[0;34m.\u001b[0m\u001b[0mEEException\u001b[0m\u001b[0;34m(\u001b[0m\u001b[0mjson_content\u001b[0m\u001b[0;34m[\u001b[0m\u001b[0;34m'error'\u001b[0m\u001b[0;34m]\u001b[0m\u001b[0;34m[\u001b[0m\u001b[0;34m'message'\u001b[0m\u001b[0;34m]\u001b[0m\u001b[0;34m)\u001b[0m\u001b[0;34m\u001b[0m\u001b[0m\n\u001b[0m\u001b[1;32m    829\u001b[0m     \u001b[0;32mif\u001b[0m \u001b[0;34m'data'\u001b[0m \u001b[0;32mnot\u001b[0m \u001b[0;32min\u001b[0m \u001b[0mcontent\u001b[0m\u001b[0;34m:\u001b[0m\u001b[0;34m\u001b[0m\u001b[0m\n\u001b[1;32m    830\u001b[0m       \u001b[0;32mraise\u001b[0m \u001b[0mee_exception\u001b[0m\u001b[0;34m.\u001b[0m\u001b[0mEEException\u001b[0m\u001b[0;34m(\u001b[0m\u001b[0;34m'Malformed response: '\u001b[0m \u001b[0;34m+\u001b[0m \u001b[0mstr\u001b[0m\u001b[0;34m(\u001b[0m\u001b[0mcontent\u001b[0m\u001b[0;34m)\u001b[0m\u001b[0;34m)\u001b[0m\u001b[0;34m\u001b[0m\u001b[0m\n",
      "\u001b[0;31mEEException\u001b[0m: Collection query aborted after accumulating over 5000 elements."
     ]
    }
   ],
   "source": []
  },
  {
   "cell_type": "code",
   "execution_count": null,
   "metadata": {},
   "outputs": [],
   "source": []
  }
 ],
 "metadata": {
  "kernelspec": {
   "display_name": "Python 2",
   "language": "python",
   "name": "python2"
  },
  "language_info": {
   "codemirror_mode": {
    "name": "ipython",
    "version": 2
   },
   "file_extension": ".py",
   "mimetype": "text/x-python",
   "name": "python",
   "nbconvert_exporter": "python",
   "pygments_lexer": "ipython2",
   "version": "2.7.15rc1"
  }
 },
 "nbformat": 4,
 "nbformat_minor": 2
}
