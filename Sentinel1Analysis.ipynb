{
 "cells": [
  {
   "cell_type": "code",
   "execution_count": 82,
   "metadata": {},
   "outputs": [],
   "source": [
    "import ee\n",
    "ee.Initialize()\n",
    "import matplotlib\n",
    "from matplotlib.pylab import plt\n",
    "import numpy as np\n",
    "import pandas as pd\n",
    "import seaborn as sns\n",
    "#print(s2c.getInfo())\n",
    "%matplotlib inline"
   ]
  },
  {
   "cell_type": "code",
   "execution_count": 84,
   "metadata": {},
   "outputs": [],
   "source": [
    "#Time frame for temporal composites\n",
    "start = '2018-05-01'\n",
    "end = '2018-09-30'"
   ]
  },
  {
   "cell_type": "code",
   "execution_count": 85,
   "metadata": {},
   "outputs": [],
   "source": [
    "#Define features\n",
    "random_samples = 10\n",
    "extent = ee.FeatureCollection('users/tomw_ee/Inputs/kielder_boundary')\n",
    "felled = ee.FeatureCollection('users/tomw_ee/Inputs/kielder_felled_only').map(lambda f : f.set('polytype', 'young'))\n",
    "young = ee.FeatureCollection('users/tomw_ee/Inputs/kielder_young_trees').map(lambda f : f.set('polytype', 'young'))\n",
    "mature = ee.FeatureCollection('users/tomw_ee/Inputs/kielder_mature_trees').map(lambda f : f.set('polytype', 'young'))\n",
    "pnts = ee.FeatureCollection('users/tomw_ee/test_points_cloud')\n",
    "#randomFc = ee.FeatureCollection.randomPoints(young, random_samples).map(lambda f : f.set('polytype', 'young'))\n",
    "#randomFelled = ee.FeatureCollection.randomPoints(felled, random_samples).map(lambda f : f.set('polytype', 'felled'))\n",
    "#randomMature = ee.FeatureCollection.randomPoints(mature, random_samples).map(lambda f : f.set('polytype', 'mature'))\n",
    "#randomFc = randomFc.merge(randomMature).merge(randomFelled)\n",
    "randomFc = felled.merge(young).merge(mature)"
   ]
  },
  {
   "cell_type": "code",
   "execution_count": 64,
   "metadata": {},
   "outputs": [],
   "source": [
    "#Define S1 image collections\n",
    "s1c = ee.ImageCollection('COPERNICUS/S1_GRD').filterBounds(extent).filterDate(start, end).\\\n",
    "filter(ee.Filter.listContains('transmitterReceiverPolarisation', 'VV')).\\\n",
    "filter(ee.Filter.listContains('transmitterReceiverPolarisation', 'VH'))\n",
    "#filter(ee.Filter.eq('orbitProperties_pass', 'ASCENDING'))"
   ]
  },
  {
   "cell_type": "markdown",
   "metadata": {},
   "source": [
    "### 1. Distribution of pixel values for different land uses\n",
    "* Reduce image collection to a median composite over the time frame\n",
    "* Sample the pixel values at all random points for mature, young, felled land uses"
   ]
  },
  {
   "cell_type": "code",
   "execution_count": 99,
   "metadata": {},
   "outputs": [],
   "source": [
    "#Median composite creation\n",
    "s1_med = s1c.median()\n",
    "s2_med = s2c.median()\n",
    "s2_med= s2_med.addBands(s2_med.normalizedDifference(['B8', 'B4']).rename('ndvi'))"
   ]
  },
  {
   "cell_type": "code",
   "execution_count": 100,
   "metadata": {},
   "outputs": [],
   "source": [
    "s1_red = s1_med.reduceRegions(randomFc, ee.Reducer.first(),10)\n",
    "s2_red = s1_med.reduceRegions(randomFc, ee.Reducer.first(),10)"
   ]
  },
  {
   "cell_type": "code",
   "execution_count": 59,
   "metadata": {},
   "outputs": [],
   "source": [
    "def export_results(coll, output_file_name):\n",
    "    task=ee.batch.Export.table.toDrive(\n",
    "            collection=coll,\n",
    "            folder = 'Pixel_Values',\n",
    "            fileFormat='CSV',\n",
    "            fileNamePrefix=output_file_name)\n",
    "    task.start()"
   ]
  },
  {
   "cell_type": "code",
   "execution_count": 9,
   "metadata": {},
   "outputs": [],
   "source": [
    "export_results(s1_red, 's1_results_median_luse')\n",
    "export_results(s2_red, 's2_results_median_luse')"
   ]
  },
  {
   "cell_type": "code",
   "execution_count": null,
   "metadata": {},
   "outputs": [],
   "source": []
  },
  {
   "cell_type": "markdown",
   "metadata": {},
   "source": [
    "## 2. Temporal Data September 2016 to September 2018\n",
    "\n",
    "Only done for sentinel 1 due to cloud problem with trying to do the same with sentinel 2"
   ]
  },
  {
   "cell_type": "code",
   "execution_count": 32,
   "metadata": {},
   "outputs": [],
   "source": [
    "start = '2018-09-15'\n",
    "end = '2018-09-30'"
   ]
  },
  {
   "cell_type": "code",
   "execution_count": 33,
   "metadata": {},
   "outputs": [],
   "source": [
    "s2c = ee.ImageCollection('COPERNICUS/S2').filterDate(start, end).filterBounds(extent).map(maskS2clouds)\n",
    "s1c = ee.ImageCollection('COPERNICUS/S1_GRD').filterBounds(extent).filterDate(start, end).\\\n",
    "filter(ee.Filter.listContains('transmitterReceiverPolarisation', 'VV')).\\\n",
    "filter(ee.Filter.listContains('transmitterReceiverPolarisation', 'VH'))\n",
    "#filter(ee.Filter.eq('orbitProperties_pass', 'ASCENDING'))"
   ]
  },
  {
   "cell_type": "code",
   "execution_count": 49,
   "metadata": {},
   "outputs": [],
   "source": [
    "def temporal_values(img):\n",
    "    return img.reduceRegions(randomFc, ee.Reducer.first(),10).map(lambda f : f.set('img_date', img.date().format('dd-MM-yyyy')))\n",
    "    "
   ]
  },
  {
   "cell_type": "code",
   "execution_count": 50,
   "metadata": {},
   "outputs": [],
   "source": [
    "temporal_s1 = s1c.map(temporal_values).flatten()\n",
    "temporal_s2 = s2c.map(temporal_values).flatten()"
   ]
  },
  {
   "cell_type": "code",
   "execution_count": 51,
   "metadata": {},
   "outputs": [],
   "source": [
    "export_results(temporal_s1,'temporal_test2')\n",
    "expport_results(temporal_s2, 'temporal_test2')"
   ]
  },
  {
   "cell_type": "code",
   "execution_count": null,
   "metadata": {},
   "outputs": [],
   "source": []
  },
  {
   "cell_type": "code",
   "execution_count": null,
   "metadata": {},
   "outputs": [],
   "source": []
  }
 ],
 "metadata": {
  "kernelspec": {
   "display_name": "Python 3",
   "language": "python",
   "name": "python3"
  },
  "language_info": {
   "codemirror_mode": {
    "name": "ipython",
    "version": 3
   },
   "file_extension": ".py",
   "mimetype": "text/x-python",
   "name": "python",
   "nbconvert_exporter": "python",
   "pygments_lexer": "ipython3",
   "version": "3.6.4"
  }
 },
 "nbformat": 4,
 "nbformat_minor": 2
}
